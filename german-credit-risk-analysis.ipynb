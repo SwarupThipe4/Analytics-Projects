{
 "cells": [
  {
   "cell_type": "markdown",
   "metadata": {
    "papermill": {
     "duration": 0.027182,
     "end_time": "2020-08-27T15:32:38.661161",
     "exception": false,
     "start_time": "2020-08-27T15:32:38.633979",
     "status": "completed"
    },
    "tags": []
   },
   "source": [
    "# German Credit Risk Analysis\n",
    "\n",
    "![](https://d30pf83g3s2iw3.cloudfront.net/wp-content/uploads/2019/11/debit-vs-credit-card-holiday-shopping.gif)\n",
    "\n",
    "# Content\n",
    "\n",
    "The original dataset contains 1000 entries with 20 categorial/symbolic attributes prepared by Prof. Hofmann. In this dataset, each entry represents a person who takes a credit by a bank. Each person is classified as good or bad credit risks according to the set of attributes.\n",
    "\n",
    "# The following steps were followed in this project:\n",
    "1. Import Modules and Data\n",
    "1. Data Analysis\n",
    "1. Data Classification\n",
    "1. Data Visualization\n",
    "1. Data Preprocessing\n",
    "1. Building Models\n",
    "    - DecisionTree Model\n",
    "    - GradientBoosting Model\n",
    "    - XGBoost Model\n",
    "    - LightGBM Model"
   ]
  },
  {
   "cell_type": "markdown",
   "metadata": {
    "papermill": {
     "duration": 0.019027,
     "end_time": "2020-08-27T15:32:38.700306",
     "exception": false,
     "start_time": "2020-08-27T15:32:38.681279",
     "status": "completed"
    },
    "tags": []
   },
   "source": [
    "# Import Modules and Data"
   ]
  },
  {
   "cell_type": "code",
   "execution_count": 38,
   "metadata": {
    "execution": {
     "iopub.execute_input": "2020-08-27T15:32:38.747823Z",
     "iopub.status.busy": "2020-08-27T15:32:38.747015Z",
     "iopub.status.idle": "2020-08-27T15:32:39.702043Z",
     "shell.execute_reply": "2020-08-27T15:32:39.701170Z"
    },
    "papermill": {
     "duration": 0.982604,
     "end_time": "2020-08-27T15:32:39.702174",
     "exception": false,
     "start_time": "2020-08-27T15:32:38.719570",
     "status": "completed"
    },
    "tags": []
   },
   "outputs": [],
   "source": [
    "import numpy as np\n",
    "import pandas as pd\n",
    "import seaborn as sns\n",
    "import matplotlib.pyplot as plt\n",
    "import plotly.graph_objects as go\n",
    "import warnings\n",
    "warnings.filterwarnings('ignore')"
   ]
  },
  {
   "cell_type": "code",
   "execution_count": 39,
   "metadata": {
    "execution": {
     "iopub.execute_input": "2020-08-27T15:32:39.756986Z",
     "iopub.status.busy": "2020-08-27T15:32:39.756172Z",
     "iopub.status.idle": "2020-08-27T15:32:39.792739Z",
     "shell.execute_reply": "2020-08-27T15:32:39.793312Z"
    },
    "papermill": {
     "duration": 0.07025,
     "end_time": "2020-08-27T15:32:39.793481",
     "exception": false,
     "start_time": "2020-08-27T15:32:39.723231",
     "status": "completed"
    },
    "scrolled": true,
    "tags": []
   },
   "outputs": [
    {
     "ename": "FileNotFoundError",
     "evalue": "[Errno 2] No such file or directory: '../input/german-credit-data-with-risk/german_credit_data.csv'",
     "output_type": "error",
     "traceback": [
      "\u001b[1;31m---------------------------------------------------------------------------\u001b[0m",
      "\u001b[1;31mFileNotFoundError\u001b[0m                         Traceback (most recent call last)",
      "Cell \u001b[1;32mIn[39], line 2\u001b[0m\n\u001b[0;32m      1\u001b[0m \u001b[38;5;66;03m#Link data : https://www.kaggle.com/kabure/german-credit-data-with-risk?select=german_credit_data.csv\u001b[39;00m\n\u001b[1;32m----> 2\u001b[0m df\u001b[38;5;241m=\u001b[39m\u001b[43mpd\u001b[49m\u001b[38;5;241;43m.\u001b[39;49m\u001b[43mread_csv\u001b[49m\u001b[43m(\u001b[49m\u001b[38;5;124;43m\"\u001b[39;49m\u001b[38;5;124;43m../input/german-credit-data-with-risk/german_credit_data.csv\u001b[39;49m\u001b[38;5;124;43m\"\u001b[39;49m\u001b[43m)\u001b[49m\n\u001b[0;32m      3\u001b[0m df\u001b[38;5;241m=\u001b[39mdf\u001b[38;5;241m.\u001b[39miloc[:,\u001b[38;5;241m1\u001b[39m:]\n\u001b[0;32m      4\u001b[0m df\u001b[38;5;241m.\u001b[39mhead()\n",
      "File \u001b[1;32m~\\anaconda3\\lib\\site-packages\\pandas\\io\\parsers\\readers.py:948\u001b[0m, in \u001b[0;36mread_csv\u001b[1;34m(filepath_or_buffer, sep, delimiter, header, names, index_col, usecols, dtype, engine, converters, true_values, false_values, skipinitialspace, skiprows, skipfooter, nrows, na_values, keep_default_na, na_filter, verbose, skip_blank_lines, parse_dates, infer_datetime_format, keep_date_col, date_parser, date_format, dayfirst, cache_dates, iterator, chunksize, compression, thousands, decimal, lineterminator, quotechar, quoting, doublequote, escapechar, comment, encoding, encoding_errors, dialect, on_bad_lines, delim_whitespace, low_memory, memory_map, float_precision, storage_options, dtype_backend)\u001b[0m\n\u001b[0;32m    935\u001b[0m kwds_defaults \u001b[38;5;241m=\u001b[39m _refine_defaults_read(\n\u001b[0;32m    936\u001b[0m     dialect,\n\u001b[0;32m    937\u001b[0m     delimiter,\n\u001b[1;32m   (...)\u001b[0m\n\u001b[0;32m    944\u001b[0m     dtype_backend\u001b[38;5;241m=\u001b[39mdtype_backend,\n\u001b[0;32m    945\u001b[0m )\n\u001b[0;32m    946\u001b[0m kwds\u001b[38;5;241m.\u001b[39mupdate(kwds_defaults)\n\u001b[1;32m--> 948\u001b[0m \u001b[38;5;28;01mreturn\u001b[39;00m \u001b[43m_read\u001b[49m\u001b[43m(\u001b[49m\u001b[43mfilepath_or_buffer\u001b[49m\u001b[43m,\u001b[49m\u001b[43m \u001b[49m\u001b[43mkwds\u001b[49m\u001b[43m)\u001b[49m\n",
      "File \u001b[1;32m~\\anaconda3\\lib\\site-packages\\pandas\\io\\parsers\\readers.py:611\u001b[0m, in \u001b[0;36m_read\u001b[1;34m(filepath_or_buffer, kwds)\u001b[0m\n\u001b[0;32m    608\u001b[0m _validate_names(kwds\u001b[38;5;241m.\u001b[39mget(\u001b[38;5;124m\"\u001b[39m\u001b[38;5;124mnames\u001b[39m\u001b[38;5;124m\"\u001b[39m, \u001b[38;5;28;01mNone\u001b[39;00m))\n\u001b[0;32m    610\u001b[0m \u001b[38;5;66;03m# Create the parser.\u001b[39;00m\n\u001b[1;32m--> 611\u001b[0m parser \u001b[38;5;241m=\u001b[39m TextFileReader(filepath_or_buffer, \u001b[38;5;241m*\u001b[39m\u001b[38;5;241m*\u001b[39mkwds)\n\u001b[0;32m    613\u001b[0m \u001b[38;5;28;01mif\u001b[39;00m chunksize \u001b[38;5;129;01mor\u001b[39;00m iterator:\n\u001b[0;32m    614\u001b[0m     \u001b[38;5;28;01mreturn\u001b[39;00m parser\n",
      "File \u001b[1;32m~\\anaconda3\\lib\\site-packages\\pandas\\io\\parsers\\readers.py:1448\u001b[0m, in \u001b[0;36mTextFileReader.__init__\u001b[1;34m(self, f, engine, **kwds)\u001b[0m\n\u001b[0;32m   1445\u001b[0m     \u001b[38;5;28mself\u001b[39m\u001b[38;5;241m.\u001b[39moptions[\u001b[38;5;124m\"\u001b[39m\u001b[38;5;124mhas_index_names\u001b[39m\u001b[38;5;124m\"\u001b[39m] \u001b[38;5;241m=\u001b[39m kwds[\u001b[38;5;124m\"\u001b[39m\u001b[38;5;124mhas_index_names\u001b[39m\u001b[38;5;124m\"\u001b[39m]\n\u001b[0;32m   1447\u001b[0m \u001b[38;5;28mself\u001b[39m\u001b[38;5;241m.\u001b[39mhandles: IOHandles \u001b[38;5;241m|\u001b[39m \u001b[38;5;28;01mNone\u001b[39;00m \u001b[38;5;241m=\u001b[39m \u001b[38;5;28;01mNone\u001b[39;00m\n\u001b[1;32m-> 1448\u001b[0m \u001b[38;5;28mself\u001b[39m\u001b[38;5;241m.\u001b[39m_engine \u001b[38;5;241m=\u001b[39m \u001b[38;5;28;43mself\u001b[39;49m\u001b[38;5;241;43m.\u001b[39;49m\u001b[43m_make_engine\u001b[49m\u001b[43m(\u001b[49m\u001b[43mf\u001b[49m\u001b[43m,\u001b[49m\u001b[43m \u001b[49m\u001b[38;5;28;43mself\u001b[39;49m\u001b[38;5;241;43m.\u001b[39;49m\u001b[43mengine\u001b[49m\u001b[43m)\u001b[49m\n",
      "File \u001b[1;32m~\\anaconda3\\lib\\site-packages\\pandas\\io\\parsers\\readers.py:1705\u001b[0m, in \u001b[0;36mTextFileReader._make_engine\u001b[1;34m(self, f, engine)\u001b[0m\n\u001b[0;32m   1703\u001b[0m     \u001b[38;5;28;01mif\u001b[39;00m \u001b[38;5;124m\"\u001b[39m\u001b[38;5;124mb\u001b[39m\u001b[38;5;124m\"\u001b[39m \u001b[38;5;129;01mnot\u001b[39;00m \u001b[38;5;129;01min\u001b[39;00m mode:\n\u001b[0;32m   1704\u001b[0m         mode \u001b[38;5;241m+\u001b[39m\u001b[38;5;241m=\u001b[39m \u001b[38;5;124m\"\u001b[39m\u001b[38;5;124mb\u001b[39m\u001b[38;5;124m\"\u001b[39m\n\u001b[1;32m-> 1705\u001b[0m \u001b[38;5;28mself\u001b[39m\u001b[38;5;241m.\u001b[39mhandles \u001b[38;5;241m=\u001b[39m \u001b[43mget_handle\u001b[49m\u001b[43m(\u001b[49m\n\u001b[0;32m   1706\u001b[0m \u001b[43m    \u001b[49m\u001b[43mf\u001b[49m\u001b[43m,\u001b[49m\n\u001b[0;32m   1707\u001b[0m \u001b[43m    \u001b[49m\u001b[43mmode\u001b[49m\u001b[43m,\u001b[49m\n\u001b[0;32m   1708\u001b[0m \u001b[43m    \u001b[49m\u001b[43mencoding\u001b[49m\u001b[38;5;241;43m=\u001b[39;49m\u001b[38;5;28;43mself\u001b[39;49m\u001b[38;5;241;43m.\u001b[39;49m\u001b[43moptions\u001b[49m\u001b[38;5;241;43m.\u001b[39;49m\u001b[43mget\u001b[49m\u001b[43m(\u001b[49m\u001b[38;5;124;43m\"\u001b[39;49m\u001b[38;5;124;43mencoding\u001b[39;49m\u001b[38;5;124;43m\"\u001b[39;49m\u001b[43m,\u001b[49m\u001b[43m \u001b[49m\u001b[38;5;28;43;01mNone\u001b[39;49;00m\u001b[43m)\u001b[49m\u001b[43m,\u001b[49m\n\u001b[0;32m   1709\u001b[0m \u001b[43m    \u001b[49m\u001b[43mcompression\u001b[49m\u001b[38;5;241;43m=\u001b[39;49m\u001b[38;5;28;43mself\u001b[39;49m\u001b[38;5;241;43m.\u001b[39;49m\u001b[43moptions\u001b[49m\u001b[38;5;241;43m.\u001b[39;49m\u001b[43mget\u001b[49m\u001b[43m(\u001b[49m\u001b[38;5;124;43m\"\u001b[39;49m\u001b[38;5;124;43mcompression\u001b[39;49m\u001b[38;5;124;43m\"\u001b[39;49m\u001b[43m,\u001b[49m\u001b[43m \u001b[49m\u001b[38;5;28;43;01mNone\u001b[39;49;00m\u001b[43m)\u001b[49m\u001b[43m,\u001b[49m\n\u001b[0;32m   1710\u001b[0m \u001b[43m    \u001b[49m\u001b[43mmemory_map\u001b[49m\u001b[38;5;241;43m=\u001b[39;49m\u001b[38;5;28;43mself\u001b[39;49m\u001b[38;5;241;43m.\u001b[39;49m\u001b[43moptions\u001b[49m\u001b[38;5;241;43m.\u001b[39;49m\u001b[43mget\u001b[49m\u001b[43m(\u001b[49m\u001b[38;5;124;43m\"\u001b[39;49m\u001b[38;5;124;43mmemory_map\u001b[39;49m\u001b[38;5;124;43m\"\u001b[39;49m\u001b[43m,\u001b[49m\u001b[43m \u001b[49m\u001b[38;5;28;43;01mFalse\u001b[39;49;00m\u001b[43m)\u001b[49m\u001b[43m,\u001b[49m\n\u001b[0;32m   1711\u001b[0m \u001b[43m    \u001b[49m\u001b[43mis_text\u001b[49m\u001b[38;5;241;43m=\u001b[39;49m\u001b[43mis_text\u001b[49m\u001b[43m,\u001b[49m\n\u001b[0;32m   1712\u001b[0m \u001b[43m    \u001b[49m\u001b[43merrors\u001b[49m\u001b[38;5;241;43m=\u001b[39;49m\u001b[38;5;28;43mself\u001b[39;49m\u001b[38;5;241;43m.\u001b[39;49m\u001b[43moptions\u001b[49m\u001b[38;5;241;43m.\u001b[39;49m\u001b[43mget\u001b[49m\u001b[43m(\u001b[49m\u001b[38;5;124;43m\"\u001b[39;49m\u001b[38;5;124;43mencoding_errors\u001b[39;49m\u001b[38;5;124;43m\"\u001b[39;49m\u001b[43m,\u001b[49m\u001b[43m \u001b[49m\u001b[38;5;124;43m\"\u001b[39;49m\u001b[38;5;124;43mstrict\u001b[39;49m\u001b[38;5;124;43m\"\u001b[39;49m\u001b[43m)\u001b[49m\u001b[43m,\u001b[49m\n\u001b[0;32m   1713\u001b[0m \u001b[43m    \u001b[49m\u001b[43mstorage_options\u001b[49m\u001b[38;5;241;43m=\u001b[39;49m\u001b[38;5;28;43mself\u001b[39;49m\u001b[38;5;241;43m.\u001b[39;49m\u001b[43moptions\u001b[49m\u001b[38;5;241;43m.\u001b[39;49m\u001b[43mget\u001b[49m\u001b[43m(\u001b[49m\u001b[38;5;124;43m\"\u001b[39;49m\u001b[38;5;124;43mstorage_options\u001b[39;49m\u001b[38;5;124;43m\"\u001b[39;49m\u001b[43m,\u001b[49m\u001b[43m \u001b[49m\u001b[38;5;28;43;01mNone\u001b[39;49;00m\u001b[43m)\u001b[49m\u001b[43m,\u001b[49m\n\u001b[0;32m   1714\u001b[0m \u001b[43m\u001b[49m\u001b[43m)\u001b[49m\n\u001b[0;32m   1715\u001b[0m \u001b[38;5;28;01massert\u001b[39;00m \u001b[38;5;28mself\u001b[39m\u001b[38;5;241m.\u001b[39mhandles \u001b[38;5;129;01mis\u001b[39;00m \u001b[38;5;129;01mnot\u001b[39;00m \u001b[38;5;28;01mNone\u001b[39;00m\n\u001b[0;32m   1716\u001b[0m f \u001b[38;5;241m=\u001b[39m \u001b[38;5;28mself\u001b[39m\u001b[38;5;241m.\u001b[39mhandles\u001b[38;5;241m.\u001b[39mhandle\n",
      "File \u001b[1;32m~\\anaconda3\\lib\\site-packages\\pandas\\io\\common.py:863\u001b[0m, in \u001b[0;36mget_handle\u001b[1;34m(path_or_buf, mode, encoding, compression, memory_map, is_text, errors, storage_options)\u001b[0m\n\u001b[0;32m    858\u001b[0m \u001b[38;5;28;01melif\u001b[39;00m \u001b[38;5;28misinstance\u001b[39m(handle, \u001b[38;5;28mstr\u001b[39m):\n\u001b[0;32m    859\u001b[0m     \u001b[38;5;66;03m# Check whether the filename is to be opened in binary mode.\u001b[39;00m\n\u001b[0;32m    860\u001b[0m     \u001b[38;5;66;03m# Binary mode does not support 'encoding' and 'newline'.\u001b[39;00m\n\u001b[0;32m    861\u001b[0m     \u001b[38;5;28;01mif\u001b[39;00m ioargs\u001b[38;5;241m.\u001b[39mencoding \u001b[38;5;129;01mand\u001b[39;00m \u001b[38;5;124m\"\u001b[39m\u001b[38;5;124mb\u001b[39m\u001b[38;5;124m\"\u001b[39m \u001b[38;5;129;01mnot\u001b[39;00m \u001b[38;5;129;01min\u001b[39;00m ioargs\u001b[38;5;241m.\u001b[39mmode:\n\u001b[0;32m    862\u001b[0m         \u001b[38;5;66;03m# Encoding\u001b[39;00m\n\u001b[1;32m--> 863\u001b[0m         handle \u001b[38;5;241m=\u001b[39m \u001b[38;5;28;43mopen\u001b[39;49m\u001b[43m(\u001b[49m\n\u001b[0;32m    864\u001b[0m \u001b[43m            \u001b[49m\u001b[43mhandle\u001b[49m\u001b[43m,\u001b[49m\n\u001b[0;32m    865\u001b[0m \u001b[43m            \u001b[49m\u001b[43mioargs\u001b[49m\u001b[38;5;241;43m.\u001b[39;49m\u001b[43mmode\u001b[49m\u001b[43m,\u001b[49m\n\u001b[0;32m    866\u001b[0m \u001b[43m            \u001b[49m\u001b[43mencoding\u001b[49m\u001b[38;5;241;43m=\u001b[39;49m\u001b[43mioargs\u001b[49m\u001b[38;5;241;43m.\u001b[39;49m\u001b[43mencoding\u001b[49m\u001b[43m,\u001b[49m\n\u001b[0;32m    867\u001b[0m \u001b[43m            \u001b[49m\u001b[43merrors\u001b[49m\u001b[38;5;241;43m=\u001b[39;49m\u001b[43merrors\u001b[49m\u001b[43m,\u001b[49m\n\u001b[0;32m    868\u001b[0m \u001b[43m            \u001b[49m\u001b[43mnewline\u001b[49m\u001b[38;5;241;43m=\u001b[39;49m\u001b[38;5;124;43m\"\u001b[39;49m\u001b[38;5;124;43m\"\u001b[39;49m\u001b[43m,\u001b[49m\n\u001b[0;32m    869\u001b[0m \u001b[43m        \u001b[49m\u001b[43m)\u001b[49m\n\u001b[0;32m    870\u001b[0m     \u001b[38;5;28;01melse\u001b[39;00m:\n\u001b[0;32m    871\u001b[0m         \u001b[38;5;66;03m# Binary mode\u001b[39;00m\n\u001b[0;32m    872\u001b[0m         handle \u001b[38;5;241m=\u001b[39m \u001b[38;5;28mopen\u001b[39m(handle, ioargs\u001b[38;5;241m.\u001b[39mmode)\n",
      "\u001b[1;31mFileNotFoundError\u001b[0m: [Errno 2] No such file or directory: '../input/german-credit-data-with-risk/german_credit_data.csv'"
     ]
    }
   ],
   "source": [
    "#Link data : https://www.kaggle.com/kabure/german-credit-data-with-risk?select=german_credit_data.csv\n",
    "df=pd.read_csv(\"german_credit_data.csv\")\n",
    "df=df.iloc[:,1:]\n",
    "df.head()"
   ]
  },
  {
   "cell_type": "markdown",
   "metadata": {
    "papermill": {
     "duration": 0.01938,
     "end_time": "2020-08-27T15:32:39.832738",
     "exception": false,
     "start_time": "2020-08-27T15:32:39.813358",
     "status": "completed"
    },
    "tags": []
   },
   "source": [
    "## Variable Description"
   ]
  },
  {
   "cell_type": "markdown",
   "metadata": {
    "_kg_hide-input": true,
    "papermill": {
     "duration": 0.019324,
     "end_time": "2020-08-27T15:32:39.872029",
     "exception": false,
     "start_time": "2020-08-27T15:32:39.852705",
     "status": "completed"
    },
    "tags": []
   },
   "source": [
    "Meaning of the Values:\n",
    "\n",
    "1. Age: Age of the person applying for the credit.\n",
    "1. Sex: Gender of the person applying for the credit.\n",
    "1. Job: 0,1,2,3 The values specified for the job in the form of 0,1,2,3.\n",
    "1. Housing: own, rent or free.\n",
    "1. Saving accounts: the amount of money in the person's bank account.\n",
    "1. Checking account: cheque account.\n",
    "1. Credit amount: Credit amount.\n",
    "1. Duration: Time given for credit payment.\n",
    "1. Purpose: Goal of credit application.\n",
    "1. Risk: Credit application positive or negative."
   ]
  },
  {
   "cell_type": "markdown",
   "metadata": {
    "papermill": {
     "duration": 0.019475,
     "end_time": "2020-08-27T15:32:39.911380",
     "exception": false,
     "start_time": "2020-08-27T15:32:39.891905",
     "status": "completed"
    },
    "tags": []
   },
   "source": [
    "# Data Analysis"
   ]
  },
  {
   "cell_type": "code",
   "execution_count": null,
   "metadata": {
    "execution": {
     "iopub.execute_input": "2020-08-27T15:32:39.972183Z",
     "iopub.status.busy": "2020-08-27T15:32:39.971266Z",
     "iopub.status.idle": "2020-08-27T15:32:39.976242Z",
     "shell.execute_reply": "2020-08-27T15:32:39.975621Z"
    },
    "papermill": {
     "duration": 0.045399,
     "end_time": "2020-08-27T15:32:39.976407",
     "exception": false,
     "start_time": "2020-08-27T15:32:39.931008",
     "status": "completed"
    },
    "tags": []
   },
   "outputs": [],
   "source": [
    "df.info()"
   ]
  },
  {
   "cell_type": "code",
   "execution_count": null,
   "metadata": {
    "execution": {
     "iopub.execute_input": "2020-08-27T15:32:40.024688Z",
     "iopub.status.busy": "2020-08-27T15:32:40.023691Z",
     "iopub.status.idle": "2020-08-27T15:32:40.046877Z",
     "shell.execute_reply": "2020-08-27T15:32:40.046091Z"
    },
    "papermill": {
     "duration": 0.05062,
     "end_time": "2020-08-27T15:32:40.047003",
     "exception": false,
     "start_time": "2020-08-27T15:32:39.996383",
     "status": "completed"
    },
    "scrolled": false,
    "tags": []
   },
   "outputs": [],
   "source": [
    "df.describe()"
   ]
  },
  {
   "cell_type": "code",
   "execution_count": null,
   "metadata": {
    "execution": {
     "iopub.execute_input": "2020-08-27T15:32:40.156323Z",
     "iopub.status.busy": "2020-08-27T15:32:40.155550Z",
     "iopub.status.idle": "2020-08-27T15:32:40.166150Z",
     "shell.execute_reply": "2020-08-27T15:32:40.165140Z"
    },
    "papermill": {
     "duration": 0.03933,
     "end_time": "2020-08-27T15:32:40.166313",
     "exception": false,
     "start_time": "2020-08-27T15:32:40.126983",
     "status": "completed"
    },
    "tags": []
   },
   "outputs": [],
   "source": [
    "def unique_value(data_set, column_name):\n",
    "    return data_set[column_name].nunique()\n",
    "\n",
    "print(\"Number of the Unique Values:\")\n",
    "print(unique_value(df,list(df.columns)))"
   ]
  },
  {
   "cell_type": "code",
   "execution_count": null,
   "metadata": {
    "execution": {
     "iopub.execute_input": "2020-08-27T15:32:40.221794Z",
     "iopub.status.busy": "2020-08-27T15:32:40.220999Z",
     "iopub.status.idle": "2020-08-27T15:32:40.468644Z",
     "shell.execute_reply": "2020-08-27T15:32:40.467878Z"
    },
    "papermill": {
     "duration": 0.280711,
     "end_time": "2020-08-27T15:32:40.468769",
     "exception": false,
     "start_time": "2020-08-27T15:32:40.188058",
     "status": "completed"
    },
    "tags": []
   },
   "outputs": [],
   "source": [
    "def missing_value_table(df):\n",
    "    missing_value = df.isna().sum().sort_values(ascending=False)\n",
    "    missing_value_percent = 100 * df.isna().sum()//len(df)\n",
    "    missing_value_table = pd.concat([missing_value, missing_value_percent], axis=1)\n",
    "    missing_value_table_return = missing_value_table.rename(columns = {0 : 'Missing Values', 1 : '% Value'})\n",
    "    cm = sns.light_palette(\"lightgreen\", as_cmap=True)\n",
    "    missing_value_table_return = missing_value_table_return.style.background_gradient(cmap=cm)\n",
    "    return missing_value_table_return\n",
    "  \n",
    "missing_value_table(df)"
   ]
  },
  {
   "cell_type": "code",
   "execution_count": null,
   "metadata": {
    "execution": {
     "iopub.execute_input": "2020-08-27T15:32:40.526739Z",
     "iopub.status.busy": "2020-08-27T15:32:40.519661Z",
     "iopub.status.idle": "2020-08-27T15:32:40.553792Z",
     "shell.execute_reply": "2020-08-27T15:32:40.554399Z"
    },
    "papermill": {
     "duration": 0.064906,
     "end_time": "2020-08-27T15:32:40.554567",
     "exception": false,
     "start_time": "2020-08-27T15:32:40.489661",
     "status": "completed"
    },
    "tags": []
   },
   "outputs": [],
   "source": [
    "pd.crosstab(df[\"Sex\"],df[\"Risk\"])"
   ]
  },
  {
   "cell_type": "code",
   "execution_count": null,
   "metadata": {
    "execution": {
     "iopub.execute_input": "2020-08-27T15:32:40.606434Z",
     "iopub.status.busy": "2020-08-27T15:32:40.605673Z",
     "iopub.status.idle": "2020-08-27T15:32:40.625376Z",
     "shell.execute_reply": "2020-08-27T15:32:40.624743Z"
    },
    "papermill": {
     "duration": 0.048785,
     "end_time": "2020-08-27T15:32:40.625510",
     "exception": false,
     "start_time": "2020-08-27T15:32:40.576725",
     "status": "completed"
    },
    "tags": []
   },
   "outputs": [],
   "source": [
    "pd.crosstab(df[\"Housing\"],df[\"Risk\"])"
   ]
  },
  {
   "cell_type": "code",
   "execution_count": null,
   "metadata": {
    "execution": {
     "iopub.execute_input": "2020-08-27T15:32:40.674590Z",
     "iopub.status.busy": "2020-08-27T15:32:40.673619Z",
     "iopub.status.idle": "2020-08-27T15:32:40.676697Z",
     "shell.execute_reply": "2020-08-27T15:32:40.676090Z"
    },
    "papermill": {
     "duration": 0.029412,
     "end_time": "2020-08-27T15:32:40.676822",
     "exception": false,
     "start_time": "2020-08-27T15:32:40.647410",
     "status": "completed"
    },
    "tags": []
   },
   "outputs": [],
   "source": [
    "# This code gives a error Dummy. That reason, we  leave to shaped of Notebook\n",
    "#pd.crosstab(df[\"Housing\"],df[\"Risk\"],df[\"Credit amount\"],aggfunc=[\"mean\"],normalize=True)"
   ]
  },
  {
   "cell_type": "markdown",
   "metadata": {
    "papermill": {
     "duration": 0.021156,
     "end_time": "2020-08-27T15:32:40.719636",
     "exception": false,
     "start_time": "2020-08-27T15:32:40.698480",
     "status": "completed"
    },
    "tags": []
   },
   "source": [
    "* There is multiple groups in the \"Purpose\".\n",
    "* At this situation we can apply ANOVA test.\n",
    "* This way we will see the differences  according to requisition of Credit Amount."
   ]
  },
  {
   "cell_type": "code",
   "execution_count": null,
   "metadata": {
    "execution": {
     "iopub.execute_input": "2020-08-27T15:32:40.779524Z",
     "iopub.status.busy": "2020-08-27T15:32:40.778453Z",
     "iopub.status.idle": "2020-08-27T15:32:40.783379Z",
     "shell.execute_reply": "2020-08-27T15:32:40.782774Z"
    },
    "papermill": {
     "duration": 0.042308,
     "end_time": "2020-08-27T15:32:40.783527",
     "exception": false,
     "start_time": "2020-08-27T15:32:40.741219",
     "status": "completed"
    },
    "tags": []
   },
   "outputs": [],
   "source": [
    "df.head(2)"
   ]
  },
  {
   "cell_type": "code",
   "execution_count": null,
   "metadata": {
    "execution": {
     "iopub.execute_input": "2020-08-27T15:32:40.837990Z",
     "iopub.status.busy": "2020-08-27T15:32:40.836812Z",
     "iopub.status.idle": "2020-08-27T15:32:40.845163Z",
     "shell.execute_reply": "2020-08-27T15:32:40.844546Z"
    },
    "papermill": {
     "duration": 0.039669,
     "end_time": "2020-08-27T15:32:40.845283",
     "exception": false,
     "start_time": "2020-08-27T15:32:40.805614",
     "status": "completed"
    },
    "tags": []
   },
   "outputs": [],
   "source": [
    "from scipy import stats\n",
    "\n",
    "df1 = df.copy()\n",
    "\n",
    "df1 = df1[[\"Credit amount\",\"Purpose\"]]\n",
    "\n",
    "group = pd.unique(df1.Purpose.values)\n",
    "\n",
    "d_v1 = {grp:df1[\"Credit amount\"][df1.Purpose == grp] for grp in group}\n"
   ]
  },
  {
   "cell_type": "markdown",
   "metadata": {
    "papermill": {
     "duration": 0.021425,
     "end_time": "2020-08-27T15:32:40.888800",
     "exception": false,
     "start_time": "2020-08-27T15:32:40.867375",
     "status": "completed"
    },
    "tags": []
   },
   "source": [
    "* One of conditions ANOVA test is equal variance."
   ]
  },
  {
   "cell_type": "markdown",
   "metadata": {
    "papermill": {
     "duration": 0.021433,
     "end_time": "2020-08-27T15:32:40.932251",
     "exception": false,
     "start_time": "2020-08-27T15:32:40.910818",
     "status": "completed"
    },
    "tags": []
   },
   "source": [
    "* Applied levene and according to result, between groups variances are not equal."
   ]
  },
  {
   "cell_type": "code",
   "execution_count": null,
   "metadata": {
    "execution": {
     "iopub.execute_input": "2020-08-27T15:32:40.987850Z",
     "iopub.status.busy": "2020-08-27T15:32:40.986916Z",
     "iopub.status.idle": "2020-08-27T15:32:40.991917Z",
     "shell.execute_reply": "2020-08-27T15:32:40.991297Z"
    },
    "papermill": {
     "duration": 0.037651,
     "end_time": "2020-08-27T15:32:40.992040",
     "exception": false,
     "start_time": "2020-08-27T15:32:40.954389",
     "status": "completed"
    },
    "tags": []
   },
   "outputs": [],
   "source": [
    "# Applying levene\n",
    "stats.levene(d_v1['radio/TV'],d_v1['furniture/equipment'],d_v1['car'],d_v1['business'],d_v1['domestic appliances'],d_v1['repairs'],\n",
    "                     d_v1['vacation/others'],d_v1['education'])"
   ]
  },
  {
   "cell_type": "markdown",
   "metadata": {
    "papermill": {
     "duration": 0.022135,
     "end_time": "2020-08-27T15:32:41.036254",
     "exception": false,
     "start_time": "2020-08-27T15:32:41.014119",
     "status": "completed"
    },
    "tags": []
   },
   "source": [
    "* P value << 0.05"
   ]
  },
  {
   "cell_type": "code",
   "execution_count": null,
   "metadata": {
    "execution": {
     "iopub.execute_input": "2020-08-27T15:32:41.090742Z",
     "iopub.status.busy": "2020-08-27T15:32:41.089670Z",
     "iopub.status.idle": "2020-08-27T15:32:41.095055Z",
     "shell.execute_reply": "2020-08-27T15:32:41.094296Z"
    },
    "papermill": {
     "duration": 0.03675,
     "end_time": "2020-08-27T15:32:41.095184",
     "exception": false,
     "start_time": "2020-08-27T15:32:41.058434",
     "status": "completed"
    },
    "tags": []
   },
   "outputs": [],
   "source": [
    "f, p = stats.f_oneway(d_v1['radio/TV'],d_v1['furniture/equipment'],d_v1['car'],d_v1['business'],d_v1['domestic appliances'],d_v1['repairs'],\n",
    "                     d_v1['vacation/others'],d_v1['education'])\n",
    "\n",
    "(\"F statistics: \"+str(f)+\" | P value : \"+str(p))"
   ]
  },
  {
   "cell_type": "markdown",
   "metadata": {
    "papermill": {
     "duration": 0.022893,
     "end_time": "2020-08-27T15:32:41.140865",
     "exception": false,
     "start_time": "2020-08-27T15:32:41.117972",
     "status": "completed"
    },
    "tags": []
   },
   "source": [
    "* H0: There are no significant differences means of groups.\n",
    "\n",
    "* H1: At least one group's mean is different.\n",
    "\n",
    "* P value < 0.05\n",
    "\n",
    "* Reject h0 hypothesis"
   ]
  },
  {
   "cell_type": "code",
   "execution_count": null,
   "metadata": {
    "execution": {
     "iopub.execute_input": "2020-08-27T15:32:41.201473Z",
     "iopub.status.busy": "2020-08-27T15:32:41.194581Z",
     "iopub.status.idle": "2020-08-27T15:32:41.205610Z",
     "shell.execute_reply": "2020-08-27T15:32:41.206236Z"
    },
    "papermill": {
     "duration": 0.043018,
     "end_time": "2020-08-27T15:32:41.206426",
     "exception": false,
     "start_time": "2020-08-27T15:32:41.163408",
     "status": "completed"
    },
    "tags": []
   },
   "outputs": [],
   "source": [
    "(df.groupby(by=[\"Purpose\"])[[\"Credit amount\"]].agg(\"sum\") / df[\"Credit amount\"].sum())*100"
   ]
  },
  {
   "cell_type": "markdown",
   "metadata": {
    "papermill": {
     "duration": 0.022497,
     "end_time": "2020-08-27T15:32:41.251763",
     "exception": false,
     "start_time": "2020-08-27T15:32:41.229266",
     "status": "completed"
    },
    "tags": []
   },
   "source": [
    "* In the result, there is different between groups.\n",
    "* In this query we can see difference"
   ]
  },
  {
   "cell_type": "markdown",
   "metadata": {
    "papermill": {
     "duration": 0.022226,
     "end_time": "2020-08-27T15:32:41.296616",
     "exception": false,
     "start_time": "2020-08-27T15:32:41.274390",
     "status": "completed"
    },
    "tags": []
   },
   "source": [
    "# Data Classification"
   ]
  },
  {
   "cell_type": "code",
   "execution_count": null,
   "metadata": {
    "execution": {
     "iopub.execute_input": "2020-08-27T15:32:41.353782Z",
     "iopub.status.busy": "2020-08-27T15:32:41.352971Z",
     "iopub.status.idle": "2020-08-27T15:32:43.452290Z",
     "shell.execute_reply": "2020-08-27T15:32:43.452886Z"
    },
    "papermill": {
     "duration": 2.13389,
     "end_time": "2020-08-27T15:32:43.453047",
     "exception": false,
     "start_time": "2020-08-27T15:32:41.319157",
     "status": "completed"
    },
    "tags": []
   },
   "outputs": [],
   "source": [
    "sns.set(font_scale=1,style=\"whitegrid\")\n",
    "fig,ax=plt.subplots(ncols=2,nrows=3,figsize=(16,12))\n",
    "cat_list=[\"Age\",\"Credit amount\",\"Duration\"]\n",
    "count=0\n",
    "for i in range(3):\n",
    "    sns.distplot(df[cat_list[count]],ax=ax[i][0],kde=False,color=\"#e88d67\")\n",
    "    sns.kdeplot(df[cat_list[count]],ax=ax[i][1],shade=True,color=\"#f2cbac\")\n",
    "    count+=1"
   ]
  },
  {
   "cell_type": "markdown",
   "metadata": {
    "papermill": {
     "duration": 0.023119,
     "end_time": "2020-08-27T15:32:43.499653",
     "exception": false,
     "start_time": "2020-08-27T15:32:43.476534",
     "status": "completed"
    },
    "tags": []
   },
   "source": [
    "* \"monthly pay\" and \"credit amount^2\"(square) added in data frame."
   ]
  },
  {
   "cell_type": "code",
   "execution_count": null,
   "metadata": {
    "execution": {
     "iopub.execute_input": "2020-08-27T15:32:43.560916Z",
     "iopub.status.busy": "2020-08-27T15:32:43.560045Z",
     "iopub.status.idle": "2020-08-27T15:32:43.563631Z",
     "shell.execute_reply": "2020-08-27T15:32:43.563004Z"
    },
    "papermill": {
     "duration": 0.039612,
     "end_time": "2020-08-27T15:32:43.563754",
     "exception": false,
     "start_time": "2020-08-27T15:32:43.524142",
     "status": "completed"
    },
    "tags": []
   },
   "outputs": [],
   "source": [
    "df[\"Monthly pay\"] = (df[\"Credit amount\"] / df[\"Duration\"])\n",
    "df[\"Credit amount^2\"] = df[\"Credit amount\"]**2"
   ]
  },
  {
   "cell_type": "markdown",
   "metadata": {
    "papermill": {
     "duration": 0.023559,
     "end_time": "2020-08-27T15:32:43.611407",
     "exception": false,
     "start_time": "2020-08-27T15:32:43.587848",
     "status": "completed"
    },
    "tags": []
   },
   "source": [
    "* 'Age' and 'Duration' columns Classification"
   ]
  },
  {
   "cell_type": "code",
   "execution_count": null,
   "metadata": {
    "execution": {
     "iopub.execute_input": "2020-08-27T15:32:43.673829Z",
     "iopub.status.busy": "2020-08-27T15:32:43.672899Z",
     "iopub.status.idle": "2020-08-27T15:32:43.685737Z",
     "shell.execute_reply": "2020-08-27T15:32:43.685073Z"
    },
    "papermill": {
     "duration": 0.050581,
     "end_time": "2020-08-27T15:32:43.685866",
     "exception": false,
     "start_time": "2020-08-27T15:32:43.635285",
     "status": "completed"
    },
    "tags": []
   },
   "outputs": [],
   "source": [
    "df.insert(1,\"Cat Age\",np.NaN)\n",
    "df.loc[df[\"Age\"]<25,\"Cat Age\"]=\"0-25\"\n",
    "df.loc[((df[\"Age\"]>=25) & (df[\"Age\"]<30)),\"Cat Age\"]=\"25-30\"\n",
    "df.loc[((df[\"Age\"]>=30) & (df[\"Age\"]<35)),\"Cat Age\"]=\"30-35\"\n",
    "df.loc[((df[\"Age\"]>=35) & (df[\"Age\"]<40)),\"Cat Age\"]=\"35-40\"\n",
    "df.loc[((df[\"Age\"]>=40) & (df[\"Age\"]<50)),\"Cat Age\"]=\"40-50\"\n",
    "df.loc[((df[\"Age\"]>=50) & (df[\"Age\"]<76)),\"Cat Age\"]=\"50-75\""
   ]
  },
  {
   "cell_type": "code",
   "execution_count": null,
   "metadata": {
    "execution": {
     "iopub.execute_input": "2020-08-27T15:32:43.748961Z",
     "iopub.status.busy": "2020-08-27T15:32:43.747817Z",
     "iopub.status.idle": "2020-08-27T15:32:44.372478Z",
     "shell.execute_reply": "2020-08-27T15:32:44.371759Z"
    },
    "papermill": {
     "duration": 0.662702,
     "end_time": "2020-08-27T15:32:44.372604",
     "exception": false,
     "start_time": "2020-08-27T15:32:43.709902",
     "status": "completed"
    },
    "tags": []
   },
   "outputs": [],
   "source": [
    "df.insert(9,\"Cat Duration\",df[\"Duration\"])\n",
    "for i in df[\"Cat Duration\"]:\n",
    "    if i<12:\n",
    "        df[\"Cat Duration\"]=df[\"Cat Duration\"].replace(i,\"0-12\")\n",
    "    elif (i>=12) and (i<24):\n",
    "        df[\"Cat Duration\"]=df[\"Cat Duration\"].replace(i,\"12-24\")\n",
    "    elif (i>=24) and (i<36):\n",
    "        df[\"Cat Duration\"]=df[\"Cat Duration\"].replace(i,\"24-36\")\n",
    "    elif (i>=36) and (i<48):\n",
    "        df[\"Cat Duration\"]=df[\"Cat Duration\"].replace(i,\"36-48\")\n",
    "    elif (i>=48) and (i<60):\n",
    "        df[\"Cat Duration\"]=df[\"Cat Duration\"].replace(i,\"48-60\")\n",
    "    elif (i>=60) and (i<=72):\n",
    "        df[\"Cat Duration\"]=df[\"Cat Duration\"].replace(i,\"60-72\")"
   ]
  },
  {
   "cell_type": "code",
   "execution_count": null,
   "metadata": {
    "execution": {
     "iopub.execute_input": "2020-08-27T15:32:44.434750Z",
     "iopub.status.busy": "2020-08-27T15:32:44.429829Z",
     "iopub.status.idle": "2020-08-27T15:32:44.438200Z",
     "shell.execute_reply": "2020-08-27T15:32:44.437362Z"
    },
    "papermill": {
     "duration": 0.041887,
     "end_time": "2020-08-27T15:32:44.438358",
     "exception": false,
     "start_time": "2020-08-27T15:32:44.396471",
     "status": "completed"
    },
    "tags": []
   },
   "outputs": [],
   "source": [
    "df.insert(4,\"Cat Job\",df[\"Job\"])\n",
    "df[\"Cat Job\"]=df[\"Cat Job\"].astype(\"category\")\n",
    "df[\"Cat Job\"]=df[\"Cat Job\"].replace(0,\"unskilled\")\n",
    "df[\"Cat Job\"]=df[\"Cat Job\"].replace(1,\"resident\")\n",
    "df[\"Cat Job\"]=df[\"Cat Job\"].replace(2,\"skilled\")\n",
    "df[\"Cat Job\"]=df[\"Cat Job\"].replace(3,\"highly skilled\")"
   ]
  },
  {
   "cell_type": "code",
   "execution_count": null,
   "metadata": {
    "execution": {
     "iopub.execute_input": "2020-08-27T15:32:44.499469Z",
     "iopub.status.busy": "2020-08-27T15:32:44.498673Z",
     "iopub.status.idle": "2020-08-27T15:32:44.502162Z",
     "shell.execute_reply": "2020-08-27T15:32:44.501542Z"
    },
    "papermill": {
     "duration": 0.039419,
     "end_time": "2020-08-27T15:32:44.502286",
     "exception": false,
     "start_time": "2020-08-27T15:32:44.462867",
     "status": "completed"
    },
    "tags": []
   },
   "outputs": [],
   "source": [
    "df[\"Job\"]=pd.Categorical(df[\"Job\"],categories=[0,1,2,3],ordered=True)\n",
    "df[\"Cat Age\"]=pd.Categorical(df[\"Cat Age\"],categories=['0-25','25-30', '30-35','35-40','40-50','50-75'])\n",
    "df[\"Cat Duration\"]=pd.Categorical(df[\"Cat Duration\"],categories=['0-12','12-24', '24-36','36-48','48-60','60-72'])"
   ]
  },
  {
   "cell_type": "code",
   "execution_count": null,
   "metadata": {
    "execution": {
     "iopub.execute_input": "2020-08-27T15:32:44.573453Z",
     "iopub.status.busy": "2020-08-27T15:32:44.555965Z",
     "iopub.status.idle": "2020-08-27T15:32:44.578800Z",
     "shell.execute_reply": "2020-08-27T15:32:44.578065Z"
    },
    "papermill": {
     "duration": 0.052775,
     "end_time": "2020-08-27T15:32:44.578931",
     "exception": false,
     "start_time": "2020-08-27T15:32:44.526156",
     "status": "completed"
    },
    "scrolled": true,
    "tags": []
   },
   "outputs": [],
   "source": [
    "df.head()"
   ]
  },
  {
   "cell_type": "markdown",
   "metadata": {
    "papermill": {
     "duration": 0.07129,
     "end_time": "2020-08-27T15:32:44.674386",
     "exception": false,
     "start_time": "2020-08-27T15:32:44.603096",
     "status": "completed"
    },
    "tags": []
   },
   "source": [
    "# Data Visualization"
   ]
  },
  {
   "cell_type": "code",
   "execution_count": null,
   "metadata": {
    "execution": {
     "iopub.execute_input": "2020-08-27T15:32:44.736449Z",
     "iopub.status.busy": "2020-08-27T15:32:44.732852Z",
     "iopub.status.idle": "2020-08-27T15:32:44.959369Z",
     "shell.execute_reply": "2020-08-27T15:32:44.958632Z"
    },
    "papermill": {
     "duration": 0.260944,
     "end_time": "2020-08-27T15:32:44.959490",
     "exception": false,
     "start_time": "2020-08-27T15:32:44.698546",
     "status": "completed"
    },
    "tags": []
   },
   "outputs": [],
   "source": [
    "fig,ax=plt.subplots(ncols=2,figsize=(16,5))\n",
    "df[\"Risk\"].value_counts().plot.pie(autopct=\"%.2f%%\",colors=['#00FF7F','#FF2424'],explode = (0.1, 0.1),ax=ax[0])\n",
    "sns.countplot(df[\"Risk\"],ax=ax[1],palette=['#00FF7F','#FF2424'])"
   ]
  },
  {
   "cell_type": "code",
   "execution_count": null,
   "metadata": {
    "execution": {
     "iopub.execute_input": "2020-08-27T15:32:45.024976Z",
     "iopub.status.busy": "2020-08-27T15:32:45.019366Z",
     "iopub.status.idle": "2020-08-27T15:32:46.053550Z",
     "shell.execute_reply": "2020-08-27T15:32:46.052766Z"
    },
    "papermill": {
     "duration": 1.069087,
     "end_time": "2020-08-27T15:32:46.053677",
     "exception": false,
     "start_time": "2020-08-27T15:32:44.984590",
     "status": "completed"
    },
    "tags": []
   },
   "outputs": [],
   "source": [
    "fig,ax=plt.subplots(ncols=2,nrows=3,figsize=(16,20))\n",
    "cat_list=[\"Cat Age\",\"Sex\",\"Cat Job\",\"Housing\",\"Cat Duration\",\"Purpose\"]\n",
    "palette=[\"red\",\"blue\",\"purple\",\"green\",\"yellow\",\"cyan\"]\n",
    "count=0\n",
    "for i in range(3):\n",
    "    for j in range(2):\n",
    "        sns.countplot(df[cat_list[count]],ax=ax[i][j],palette=sns.dark_palette(palette[count],reverse=True))\n",
    "        ax[i][j].set_xticklabels(ax[i][j].get_xticklabels(),rotation=30)\n",
    "        count+=1"
   ]
  },
  {
   "cell_type": "code",
   "execution_count": null,
   "metadata": {
    "execution": {
     "iopub.execute_input": "2020-08-27T15:32:46.117986Z",
     "iopub.status.busy": "2020-08-27T15:32:46.112018Z",
     "iopub.status.idle": "2020-08-27T15:32:46.399858Z",
     "shell.execute_reply": "2020-08-27T15:32:46.399107Z"
    },
    "papermill": {
     "duration": 0.320355,
     "end_time": "2020-08-27T15:32:46.399988",
     "exception": false,
     "start_time": "2020-08-27T15:32:46.079633",
     "status": "completed"
    },
    "scrolled": true,
    "tags": []
   },
   "outputs": [],
   "source": [
    "fig, ax = plt.subplots(1,2,figsize=(16,5))\n",
    "\n",
    "sns.countplot(df['Sex'], ax=ax[0]).set_title('Male - Female Ratio');\n",
    "sns.countplot(df.Risk, ax=ax[1]).set_title('Good - Bad Risk Ratio');"
   ]
  },
  {
   "cell_type": "code",
   "execution_count": null,
   "metadata": {
    "execution": {
     "iopub.execute_input": "2020-08-27T15:32:46.460256Z",
     "iopub.status.busy": "2020-08-27T15:32:46.459489Z",
     "iopub.status.idle": "2020-08-27T15:32:46.660978Z",
     "shell.execute_reply": "2020-08-27T15:32:46.660267Z"
    },
    "papermill": {
     "duration": 0.235149,
     "end_time": "2020-08-27T15:32:46.661103",
     "exception": false,
     "start_time": "2020-08-27T15:32:46.425954",
     "status": "completed"
    },
    "scrolled": true,
    "tags": []
   },
   "outputs": [],
   "source": [
    "plt.figure(figsize=(16,5))\n",
    "sns.countplot(x=\"Housing\", hue=\"Risk\", data=df).set_title(\"Housing and Frequency Graph by Risk\", fontsize=15);\n",
    "plt.show()"
   ]
  },
  {
   "cell_type": "code",
   "execution_count": null,
   "metadata": {
    "execution": {
     "iopub.execute_input": "2020-08-27T15:32:46.728899Z",
     "iopub.status.busy": "2020-08-27T15:32:46.722726Z",
     "iopub.status.idle": "2020-08-27T15:32:47.124180Z",
     "shell.execute_reply": "2020-08-27T15:32:47.123417Z"
    },
    "papermill": {
     "duration": 0.436469,
     "end_time": "2020-08-27T15:32:47.124310",
     "exception": false,
     "start_time": "2020-08-27T15:32:46.687841",
     "status": "completed"
    },
    "tags": []
   },
   "outputs": [],
   "source": [
    "fig, (ax1, ax2) = plt.subplots(1,2, figsize=(16,5))\n",
    "sns.countplot(x=\"Saving accounts\", hue=\"Risk\", data=df, ax=ax1);\n",
    "sns.countplot(x=\"Checking account\", hue=\"Risk\", data=df, ax=ax2);\n",
    "ax1.set_xticklabels(ax1.get_xticklabels(), rotation=45)\n",
    "ax2.set_xticklabels(ax2.get_xticklabels(), rotation=45)\n",
    "fig.show()"
   ]
  },
  {
   "cell_type": "code",
   "execution_count": null,
   "metadata": {
    "execution": {
     "iopub.execute_input": "2020-08-27T15:32:47.187005Z",
     "iopub.status.busy": "2020-08-27T15:32:47.186212Z",
     "iopub.status.idle": "2020-08-27T15:32:47.709710Z",
     "shell.execute_reply": "2020-08-27T15:32:47.708973Z"
    },
    "papermill": {
     "duration": 0.557898,
     "end_time": "2020-08-27T15:32:47.709836",
     "exception": false,
     "start_time": "2020-08-27T15:32:47.151938",
     "status": "completed"
    },
    "tags": []
   },
   "outputs": [],
   "source": [
    "plt.figure(figsize=(16,5))\n",
    "sns.barplot(data=df,x=\"Sex\",y=\"Age\",hue=\"Cat Job\",palette=\"hsv_r\")"
   ]
  },
  {
   "cell_type": "code",
   "execution_count": null,
   "metadata": {
    "execution": {
     "iopub.execute_input": "2020-08-27T15:32:47.778945Z",
     "iopub.status.busy": "2020-08-27T15:32:47.774546Z",
     "iopub.status.idle": "2020-08-27T15:32:48.026312Z",
     "shell.execute_reply": "2020-08-27T15:32:48.026912Z"
    },
    "papermill": {
     "duration": 0.289997,
     "end_time": "2020-08-27T15:32:48.027062",
     "exception": false,
     "start_time": "2020-08-27T15:32:47.737065",
     "status": "completed"
    },
    "tags": []
   },
   "outputs": [],
   "source": [
    "plt.figure(figsize = (16, 5))\n",
    "sns.stripplot(x = \"Cat Age\", y = \"Credit amount\", data = df)"
   ]
  },
  {
   "cell_type": "code",
   "execution_count": null,
   "metadata": {
    "execution": {
     "iopub.execute_input": "2020-08-27T15:32:48.097776Z",
     "iopub.status.busy": "2020-08-27T15:32:48.091325Z",
     "iopub.status.idle": "2020-08-27T15:32:53.466907Z",
     "shell.execute_reply": "2020-08-27T15:32:53.467488Z"
    },
    "papermill": {
     "duration": 5.412546,
     "end_time": "2020-08-27T15:32:53.467648",
     "exception": false,
     "start_time": "2020-08-27T15:32:48.055102",
     "status": "completed"
    },
    "scrolled": true,
    "tags": []
   },
   "outputs": [],
   "source": [
    "fig, ax = plt.subplots(2,1,figsize=(16,5))\n",
    "plt.tight_layout(2)\n",
    "sns.lineplot(data=df, x='Age', y='Credit amount', hue='Sex', lw=2, ax=ax[0]).set_title(\"Credit Amount Graph Depending on Age and Duration by Sex\", fontsize=15);\n",
    "sns.lineplot(data=df, x='Duration', y='Credit amount', hue='Sex', lw=2, ax=ax[1]);"
   ]
  },
  {
   "cell_type": "code",
   "execution_count": null,
   "metadata": {
    "execution": {
     "iopub.execute_input": "2020-08-27T15:32:53.533752Z",
     "iopub.status.busy": "2020-08-27T15:32:53.532958Z",
     "iopub.status.idle": "2020-08-27T15:32:54.271400Z",
     "shell.execute_reply": "2020-08-27T15:32:54.270808Z"
    },
    "papermill": {
     "duration": 0.774858,
     "end_time": "2020-08-27T15:32:54.271527",
     "exception": false,
     "start_time": "2020-08-27T15:32:53.496669",
     "status": "completed"
    },
    "tags": []
   },
   "outputs": [],
   "source": [
    "sns.FacetGrid(data=df,col=\"Risk\",aspect=1.5,height=4).map(sns.pointplot,\"Cat Age\",\"Credit amount\",\"Sex\",palette=[\"#FF7659\",\"#30AB55\"],ci=None).add_legend();"
   ]
  },
  {
   "cell_type": "code",
   "execution_count": null,
   "metadata": {
    "execution": {
     "iopub.execute_input": "2020-08-27T15:32:54.338541Z",
     "iopub.status.busy": "2020-08-27T15:32:54.337715Z",
     "iopub.status.idle": "2020-08-27T15:32:54.657320Z",
     "shell.execute_reply": "2020-08-27T15:32:54.656603Z"
    },
    "papermill": {
     "duration": 0.35664,
     "end_time": "2020-08-27T15:32:54.657462",
     "exception": false,
     "start_time": "2020-08-27T15:32:54.300822",
     "status": "completed"
    },
    "scrolled": true,
    "tags": []
   },
   "outputs": [],
   "source": [
    "plt.figure(figsize=(8.5,5.5))\n",
    "corr = sns.heatmap(df.corr(),xticklabels=df.corr().columns,yticklabels=df.corr().columns,annot=True)"
   ]
  },
  {
   "cell_type": "markdown",
   "metadata": {
    "papermill": {
     "duration": 0.029435,
     "end_time": "2020-08-27T15:32:54.716907",
     "exception": false,
     "start_time": "2020-08-27T15:32:54.687472",
     "status": "completed"
    },
    "tags": []
   },
   "source": [
    "# Data Preprocessing"
   ]
  },
  {
   "cell_type": "code",
   "execution_count": null,
   "metadata": {
    "execution": {
     "iopub.execute_input": "2020-08-27T15:32:54.791627Z",
     "iopub.status.busy": "2020-08-27T15:32:54.790519Z",
     "iopub.status.idle": "2020-08-27T15:32:54.805879Z",
     "shell.execute_reply": "2020-08-27T15:32:54.805116Z"
    },
    "papermill": {
     "duration": 0.059106,
     "end_time": "2020-08-27T15:32:54.806003",
     "exception": false,
     "start_time": "2020-08-27T15:32:54.746897",
     "status": "completed"
    },
    "tags": []
   },
   "outputs": [],
   "source": [
    "df.head()"
   ]
  },
  {
   "cell_type": "code",
   "execution_count": null,
   "metadata": {
    "execution": {
     "iopub.execute_input": "2020-08-27T15:32:54.876453Z",
     "iopub.status.busy": "2020-08-27T15:32:54.875656Z",
     "iopub.status.idle": "2020-08-27T15:32:54.879146Z",
     "shell.execute_reply": "2020-08-27T15:32:54.879751Z"
    },
    "papermill": {
     "duration": 0.043277,
     "end_time": "2020-08-27T15:32:54.879902",
     "exception": false,
     "start_time": "2020-08-27T15:32:54.836625",
     "status": "completed"
    },
    "tags": []
   },
   "outputs": [],
   "source": [
    "df[\"Age\"],df[\"Duration\"],df[\"Job\"]=df[\"Cat Age\"],df[\"Cat Duration\"],df[\"Cat Job\"]\n",
    "df=df.drop([\"Cat Age\",\"Cat Duration\",\"Cat Job\"],axis=1)"
   ]
  },
  {
   "cell_type": "code",
   "execution_count": null,
   "metadata": {
    "execution": {
     "iopub.execute_input": "2020-08-27T15:32:54.947862Z",
     "iopub.status.busy": "2020-08-27T15:32:54.947038Z",
     "iopub.status.idle": "2020-08-27T15:32:54.950402Z",
     "shell.execute_reply": "2020-08-27T15:32:54.950982Z"
    },
    "papermill": {
     "duration": 0.040776,
     "end_time": "2020-08-27T15:32:54.951145",
     "exception": false,
     "start_time": "2020-08-27T15:32:54.910369",
     "status": "completed"
    },
    "tags": []
   },
   "outputs": [],
   "source": [
    "liste_columns=list(df.columns)\n",
    "liste_columns.remove(\"Sex\")\n",
    "liste_columns.remove(\"Risk\")\n",
    "liste_columns.remove(\"Credit amount\")\n",
    "liste_columns.remove(\"Monthly pay\")\n",
    "liste_columns.remove(\"Credit amount^2\")"
   ]
  },
  {
   "cell_type": "code",
   "execution_count": null,
   "metadata": {
    "execution": {
     "iopub.execute_input": "2020-08-27T15:32:55.020314Z",
     "iopub.status.busy": "2020-08-27T15:32:55.019547Z",
     "iopub.status.idle": "2020-08-27T15:32:55.095377Z",
     "shell.execute_reply": "2020-08-27T15:32:55.094567Z"
    },
    "papermill": {
     "duration": 0.113302,
     "end_time": "2020-08-27T15:32:55.095505",
     "exception": false,
     "start_time": "2020-08-27T15:32:54.982203",
     "status": "completed"
    },
    "tags": []
   },
   "outputs": [],
   "source": [
    "from sklearn.preprocessing import LabelEncoder\n",
    "label=LabelEncoder()\n",
    "df[\"Sex\"]=label.fit_transform(df[\"Sex\"])\n",
    "df[\"Risk\"]=label.fit_transform(df[\"Risk\"])\n",
    "df=pd.get_dummies(df,columns=liste_columns,prefix=liste_columns)"
   ]
  },
  {
   "cell_type": "code",
   "execution_count": null,
   "metadata": {
    "execution": {
     "iopub.execute_input": "2020-08-27T15:32:55.165541Z",
     "iopub.status.busy": "2020-08-27T15:32:55.164751Z",
     "iopub.status.idle": "2020-08-27T15:32:55.183421Z",
     "shell.execute_reply": "2020-08-27T15:32:55.182754Z"
    },
    "papermill": {
     "duration": 0.057386,
     "end_time": "2020-08-27T15:32:55.183551",
     "exception": false,
     "start_time": "2020-08-27T15:32:55.126165",
     "status": "completed"
    },
    "tags": []
   },
   "outputs": [],
   "source": [
    "from sklearn.preprocessing import MinMaxScaler\n",
    "scaler=MinMaxScaler()\n",
    "df[\"Credit amount\"]=scaler.fit_transform(df[[\"Credit amount\"]])\n",
    "df[\"Monthly pay\"]=scaler.fit_transform(df[[\"Monthly pay\"]])\n",
    "df[\"Credit amount^2\"]=scaler.fit_transform(df[[\"Credit amount^2\"]])"
   ]
  },
  {
   "cell_type": "code",
   "execution_count": null,
   "metadata": {
    "execution": {
     "iopub.execute_input": "2020-08-27T15:32:55.269439Z",
     "iopub.status.busy": "2020-08-27T15:32:55.268133Z",
     "iopub.status.idle": "2020-08-27T15:32:55.274394Z",
     "shell.execute_reply": "2020-08-27T15:32:55.273736Z"
    },
    "papermill": {
     "duration": 0.060486,
     "end_time": "2020-08-27T15:32:55.274524",
     "exception": false,
     "start_time": "2020-08-27T15:32:55.214038",
     "status": "completed"
    },
    "tags": []
   },
   "outputs": [],
   "source": [
    "df.head()"
   ]
  },
  {
   "cell_type": "markdown",
   "metadata": {
    "papermill": {
     "duration": 0.031079,
     "end_time": "2020-08-27T15:32:55.337324",
     "exception": false,
     "start_time": "2020-08-27T15:32:55.306245",
     "status": "completed"
    },
    "tags": []
   },
   "source": [
    "# Building Models"
   ]
  },
  {
   "cell_type": "code",
   "execution_count": null,
   "metadata": {
    "execution": {
     "iopub.execute_input": "2020-08-27T15:32:55.406146Z",
     "iopub.status.busy": "2020-08-27T15:32:55.405433Z",
     "iopub.status.idle": "2020-08-27T15:32:55.458234Z",
     "shell.execute_reply": "2020-08-27T15:32:55.457440Z"
    },
    "papermill": {
     "duration": 0.089491,
     "end_time": "2020-08-27T15:32:55.458393",
     "exception": false,
     "start_time": "2020-08-27T15:32:55.368902",
     "status": "completed"
    },
    "tags": []
   },
   "outputs": [],
   "source": [
    "from sklearn.model_selection import train_test_split\n",
    "from sklearn.metrics import accuracy_score,confusion_matrix,roc_curve,roc_auc_score,auc,classification_report"
   ]
  },
  {
   "cell_type": "code",
   "execution_count": null,
   "metadata": {
    "execution": {
     "iopub.execute_input": "2020-08-27T15:32:55.529833Z",
     "iopub.status.busy": "2020-08-27T15:32:55.529045Z",
     "iopub.status.idle": "2020-08-27T15:32:55.535472Z",
     "shell.execute_reply": "2020-08-27T15:32:55.536054Z"
    },
    "papermill": {
     "duration": 0.045918,
     "end_time": "2020-08-27T15:32:55.536218",
     "exception": false,
     "start_time": "2020-08-27T15:32:55.490300",
     "status": "completed"
    },
    "tags": []
   },
   "outputs": [],
   "source": [
    "X=df.drop([\"Risk\"],axis=1)\n",
    "Y=df[\"Risk\"]\n",
    "X_train,X_test,Y_train,Y_test=train_test_split(X,Y,test_size=0.3,random_state=0)"
   ]
  },
  {
   "cell_type": "markdown",
   "metadata": {
    "papermill": {
     "duration": 0.031893,
     "end_time": "2020-08-27T15:32:55.600521",
     "exception": false,
     "start_time": "2020-08-27T15:32:55.568628",
     "status": "completed"
    },
    "tags": []
   },
   "source": [
    "## Decision Tree Model"
   ]
  },
  {
   "cell_type": "code",
   "execution_count": null,
   "metadata": {
    "execution": {
     "iopub.execute_input": "2020-08-27T15:32:55.671565Z",
     "iopub.status.busy": "2020-08-27T15:32:55.670798Z",
     "iopub.status.idle": "2020-08-27T15:32:55.849097Z",
     "shell.execute_reply": "2020-08-27T15:32:55.848312Z"
    },
    "papermill": {
     "duration": 0.216395,
     "end_time": "2020-08-27T15:32:55.849221",
     "exception": false,
     "start_time": "2020-08-27T15:32:55.632826",
     "status": "completed"
    },
    "tags": []
   },
   "outputs": [],
   "source": [
    "from sklearn.tree import DecisionTreeClassifier\n",
    "cart_model=DecisionTreeClassifier(criterion='gini',max_depth=4,min_samples_leaf=54,min_samples_split=2).fit(X_train,Y_train)"
   ]
  },
  {
   "cell_type": "code",
   "execution_count": null,
   "metadata": {
    "execution": {
     "iopub.execute_input": "2020-08-27T15:32:55.924281Z",
     "iopub.status.busy": "2020-08-27T15:32:55.923325Z",
     "iopub.status.idle": "2020-08-27T15:32:55.933572Z",
     "shell.execute_reply": "2020-08-27T15:32:55.934395Z"
    },
    "papermill": {
     "duration": 0.052998,
     "end_time": "2020-08-27T15:32:55.934604",
     "exception": false,
     "start_time": "2020-08-27T15:32:55.881606",
     "status": "completed"
    },
    "tags": []
   },
   "outputs": [],
   "source": [
    "print(\"Train Accuracy Score : \",accuracy_score(Y_train,cart_model.predict(X_train)))\n",
    "print(\"Test Accuracy Score : \",accuracy_score(Y_test,cart_model.predict(X_test)))"
   ]
  },
  {
   "cell_type": "code",
   "execution_count": null,
   "metadata": {
    "execution": {
     "iopub.execute_input": "2020-08-27T15:32:56.009546Z",
     "iopub.status.busy": "2020-08-27T15:32:56.008326Z",
     "iopub.status.idle": "2020-08-27T15:32:56.019564Z",
     "shell.execute_reply": "2020-08-27T15:32:56.020114Z"
    },
    "papermill": {
     "duration": 0.052789,
     "end_time": "2020-08-27T15:32:56.020303",
     "exception": false,
     "start_time": "2020-08-27T15:32:55.967514",
     "status": "completed"
    },
    "tags": []
   },
   "outputs": [],
   "source": [
    "print(classification_report(Y_test,cart_model.predict(X_test)))"
   ]
  },
  {
   "cell_type": "markdown",
   "metadata": {
    "papermill": {
     "duration": 0.032131,
     "end_time": "2020-08-27T15:32:56.085049",
     "exception": false,
     "start_time": "2020-08-27T15:32:56.052918",
     "status": "completed"
    },
    "tags": []
   },
   "source": [
    "## GradientBoosting Model"
   ]
  },
  {
   "cell_type": "code",
   "execution_count": null,
   "metadata": {
    "execution": {
     "iopub.execute_input": "2020-08-27T15:32:56.156926Z",
     "iopub.status.busy": "2020-08-27T15:32:56.156041Z",
     "iopub.status.idle": "2020-08-27T15:32:56.524603Z",
     "shell.execute_reply": "2020-08-27T15:32:56.523885Z"
    },
    "papermill": {
     "duration": 0.406829,
     "end_time": "2020-08-27T15:32:56.524727",
     "exception": false,
     "start_time": "2020-08-27T15:32:56.117898",
     "status": "completed"
    },
    "tags": []
   },
   "outputs": [],
   "source": [
    "from sklearn.ensemble import GradientBoostingClassifier\n",
    "gbm_model = GradientBoostingClassifier(learning_rate = 0.01,max_depth = 5,min_samples_split = 10,n_estimators = 100).fit(X_train, Y_train)"
   ]
  },
  {
   "cell_type": "code",
   "execution_count": null,
   "metadata": {
    "execution": {
     "iopub.execute_input": "2020-08-27T15:32:56.598864Z",
     "iopub.status.busy": "2020-08-27T15:32:56.597805Z",
     "iopub.status.idle": "2020-08-27T15:32:56.612389Z",
     "shell.execute_reply": "2020-08-27T15:32:56.611628Z"
    },
    "papermill": {
     "duration": 0.055516,
     "end_time": "2020-08-27T15:32:56.612517",
     "exception": false,
     "start_time": "2020-08-27T15:32:56.557001",
     "status": "completed"
    },
    "tags": []
   },
   "outputs": [],
   "source": [
    "print(\"Train Accuracy Score : \",accuracy_score(Y_train,gbm_model.predict(X_train)))\n",
    "print(\"Test Accuracy Score : \",accuracy_score(Y_test,gbm_model.predict(X_test)))"
   ]
  },
  {
   "cell_type": "code",
   "execution_count": null,
   "metadata": {
    "execution": {
     "iopub.execute_input": "2020-08-27T15:32:56.687299Z",
     "iopub.status.busy": "2020-08-27T15:32:56.684790Z",
     "iopub.status.idle": "2020-08-27T15:32:56.696429Z",
     "shell.execute_reply": "2020-08-27T15:32:56.696999Z"
    },
    "papermill": {
     "duration": 0.052231,
     "end_time": "2020-08-27T15:32:56.697177",
     "exception": false,
     "start_time": "2020-08-27T15:32:56.644946",
     "status": "completed"
    },
    "scrolled": true,
    "tags": []
   },
   "outputs": [],
   "source": [
    "print(classification_report(Y_test,gbm_model.predict(X_test)))"
   ]
  },
  {
   "cell_type": "code",
   "execution_count": null,
   "metadata": {
    "execution": {
     "iopub.execute_input": "2020-08-27T15:32:56.768185Z",
     "iopub.status.busy": "2020-08-27T15:32:56.767215Z",
     "iopub.status.idle": "2020-08-27T15:32:56.771621Z",
     "shell.execute_reply": "2020-08-27T15:32:56.772194Z"
    },
    "papermill": {
     "duration": 0.042509,
     "end_time": "2020-08-27T15:32:56.772376",
     "exception": false,
     "start_time": "2020-08-27T15:32:56.729867",
     "status": "completed"
    },
    "tags": []
   },
   "outputs": [],
   "source": [
    "X_train.shape"
   ]
  },
  {
   "cell_type": "code",
   "execution_count": null,
   "metadata": {
    "execution": {
     "iopub.execute_input": "2020-08-27T15:32:56.846513Z",
     "iopub.status.busy": "2020-08-27T15:32:56.845741Z",
     "iopub.status.idle": "2020-08-27T15:32:57.192153Z",
     "shell.execute_reply": "2020-08-27T15:32:57.191498Z"
    },
    "papermill": {
     "duration": 0.387036,
     "end_time": "2020-08-27T15:32:57.192276",
     "exception": false,
     "start_time": "2020-08-27T15:32:56.805240",
     "status": "completed"
    },
    "tags": []
   },
   "outputs": [],
   "source": [
    "Importance=pd.DataFrame({\"Values\":gbm_model.feature_importances_*100},index=list(X_test.columns))\n",
    "Importance.sort_values(\"Values\",inplace=True,ascending=True)\n",
    "Importance[28:].plot.barh()"
   ]
  },
  {
   "cell_type": "markdown",
   "metadata": {
    "papermill": {
     "duration": 0.033498,
     "end_time": "2020-08-27T15:32:57.259267",
     "exception": false,
     "start_time": "2020-08-27T15:32:57.225769",
     "status": "completed"
    },
    "tags": []
   },
   "source": [
    "## XGBoost Model"
   ]
  },
  {
   "cell_type": "code",
   "execution_count": null,
   "metadata": {
    "execution": {
     "iopub.execute_input": "2020-08-27T15:32:57.332154Z",
     "iopub.status.busy": "2020-08-27T15:32:57.331221Z",
     "iopub.status.idle": "2020-08-27T15:32:58.232411Z",
     "shell.execute_reply": "2020-08-27T15:32:58.233162Z"
    },
    "papermill": {
     "duration": 0.940831,
     "end_time": "2020-08-27T15:32:58.233365",
     "exception": false,
     "start_time": "2020-08-27T15:32:57.292534",
     "status": "completed"
    },
    "tags": []
   },
   "outputs": [],
   "source": [
    "from xgboost import XGBClassifier\n",
    "xgb_model = XGBClassifier(learning_rate = 0.05, max_depth = 5,n_estimators=100,subsample=0.8).fit(X_train,Y_train)"
   ]
  },
  {
   "cell_type": "code",
   "execution_count": null,
   "metadata": {
    "execution": {
     "iopub.execute_input": "2020-08-27T15:32:58.328179Z",
     "iopub.status.busy": "2020-08-27T15:32:58.327105Z",
     "iopub.status.idle": "2020-08-27T15:32:58.347490Z",
     "shell.execute_reply": "2020-08-27T15:32:58.346798Z"
    },
    "papermill": {
     "duration": 0.07204,
     "end_time": "2020-08-27T15:32:58.347643",
     "exception": false,
     "start_time": "2020-08-27T15:32:58.275603",
     "status": "completed"
    },
    "tags": []
   },
   "outputs": [],
   "source": [
    "print(\"Train Accuracy Score : \",accuracy_score(Y_train,xgb_model.predict(X_train)))\n",
    "print(\"Test Accuracy Score : \",accuracy_score(Y_test,xgb_model.predict(X_test)))"
   ]
  },
  {
   "cell_type": "code",
   "execution_count": null,
   "metadata": {
    "execution": {
     "iopub.execute_input": "2020-08-27T15:32:58.440220Z",
     "iopub.status.busy": "2020-08-27T15:32:58.439178Z",
     "iopub.status.idle": "2020-08-27T15:32:58.453969Z",
     "shell.execute_reply": "2020-08-27T15:32:58.454649Z"
    },
    "papermill": {
     "duration": 0.064863,
     "end_time": "2020-08-27T15:32:58.454824",
     "exception": false,
     "start_time": "2020-08-27T15:32:58.389961",
     "status": "completed"
    },
    "tags": []
   },
   "outputs": [],
   "source": [
    "print(classification_report(Y_test,xgb_model.predict(X_test)))"
   ]
  },
  {
   "cell_type": "code",
   "execution_count": null,
   "metadata": {
    "execution": {
     "iopub.execute_input": "2020-08-27T15:32:58.641224Z",
     "iopub.status.busy": "2020-08-27T15:32:58.640111Z",
     "iopub.status.idle": "2020-08-27T15:32:58.993956Z",
     "shell.execute_reply": "2020-08-27T15:32:58.993213Z"
    },
    "papermill": {
     "duration": 0.496116,
     "end_time": "2020-08-27T15:32:58.994080",
     "exception": false,
     "start_time": "2020-08-27T15:32:58.497964",
     "status": "completed"
    },
    "scrolled": true,
    "tags": []
   },
   "outputs": [],
   "source": [
    "Importance=pd.DataFrame({\"Values\":xgb_model.feature_importances_*100},index=list(X_test.columns))\n",
    "Importance.sort_values(\"Values\",inplace=True,ascending=True)\n",
    "Importance[28:].plot.barh()"
   ]
  },
  {
   "cell_type": "markdown",
   "metadata": {
    "papermill": {
     "duration": 0.033898,
     "end_time": "2020-08-27T15:32:59.061978",
     "exception": false,
     "start_time": "2020-08-27T15:32:59.028080",
     "status": "completed"
    },
    "tags": []
   },
   "source": [
    "## LightGBM Model"
   ]
  },
  {
   "cell_type": "code",
   "execution_count": null,
   "metadata": {
    "execution": {
     "iopub.execute_input": "2020-08-27T15:32:59.142196Z",
     "iopub.status.busy": "2020-08-27T15:32:59.141393Z",
     "iopub.status.idle": "2020-08-27T15:32:59.353357Z",
     "shell.execute_reply": "2020-08-27T15:32:59.354082Z"
    },
    "papermill": {
     "duration": 0.257055,
     "end_time": "2020-08-27T15:32:59.354260",
     "exception": false,
     "start_time": "2020-08-27T15:32:59.097205",
     "status": "completed"
    },
    "tags": []
   },
   "outputs": [],
   "source": [
    "from lightgbm import LGBMClassifier\n",
    "lgbm_model=LGBMClassifier(learning_rate=0.02,max_depth=3,min_child_samples=10,n_estimators=200,subsample=0.6).fit(X_train,Y_train)"
   ]
  },
  {
   "cell_type": "code",
   "execution_count": null,
   "metadata": {
    "execution": {
     "iopub.execute_input": "2020-08-27T15:32:59.452845Z",
     "iopub.status.busy": "2020-08-27T15:32:59.451954Z",
     "iopub.status.idle": "2020-08-27T15:32:59.461708Z",
     "shell.execute_reply": "2020-08-27T15:32:59.462484Z"
    },
    "papermill": {
     "duration": 0.06513,
     "end_time": "2020-08-27T15:32:59.462659",
     "exception": false,
     "start_time": "2020-08-27T15:32:59.397529",
     "status": "completed"
    },
    "tags": []
   },
   "outputs": [],
   "source": [
    "print(\"Train Accuracy Score : \",accuracy_score(Y_train,lgbm_model.predict(X_train)))\n",
    "print(\"Test Accuracy Score : \",accuracy_score(Y_test,lgbm_model.predict(X_test)))"
   ]
  },
  {
   "cell_type": "code",
   "execution_count": null,
   "metadata": {
    "execution": {
     "iopub.execute_input": "2020-08-27T15:32:59.558076Z",
     "iopub.status.busy": "2020-08-27T15:32:59.557230Z",
     "iopub.status.idle": "2020-08-27T15:32:59.570877Z",
     "shell.execute_reply": "2020-08-27T15:32:59.571756Z"
    },
    "papermill": {
     "duration": 0.066264,
     "end_time": "2020-08-27T15:32:59.571934",
     "exception": false,
     "start_time": "2020-08-27T15:32:59.505670",
     "status": "completed"
    },
    "tags": []
   },
   "outputs": [],
   "source": [
    "print(classification_report(Y_test,lgbm_model.predict(X_test)))"
   ]
  },
  {
   "cell_type": "code",
   "execution_count": null,
   "metadata": {
    "execution": {
     "iopub.execute_input": "2020-08-27T15:32:59.671616Z",
     "iopub.status.busy": "2020-08-27T15:32:59.670757Z",
     "iopub.status.idle": "2020-08-27T15:33:00.036633Z",
     "shell.execute_reply": "2020-08-27T15:33:00.037166Z"
    },
    "papermill": {
     "duration": 0.421724,
     "end_time": "2020-08-27T15:33:00.037327",
     "exception": false,
     "start_time": "2020-08-27T15:32:59.615603",
     "status": "completed"
    },
    "scrolled": true,
    "tags": []
   },
   "outputs": [],
   "source": [
    "Importance=pd.DataFrame({\"Values\":lgbm_model.feature_importances_*100},index=list(X_test.columns))\n",
    "Importance.sort_values(\"Values\",inplace=True,ascending=True)\n",
    "Importance[28:].plot.barh()"
   ]
  },
  {
   "cell_type": "code",
   "execution_count": null,
   "metadata": {
    "execution": {
     "iopub.execute_input": "2020-08-27T15:33:00.131114Z",
     "iopub.status.busy": "2020-08-27T15:33:00.117913Z",
     "iopub.status.idle": "2020-08-27T15:33:06.028463Z",
     "shell.execute_reply": "2020-08-27T15:33:06.029051Z"
    },
    "papermill": {
     "duration": 5.956378,
     "end_time": "2020-08-27T15:33:06.029202",
     "exception": false,
     "start_time": "2020-08-27T15:33:00.072824",
     "status": "completed"
    },
    "tags": []
   },
   "outputs": [],
   "source": [
    "list_model=[cart_model,gbm_model,xgb_model,lgbm_model]\n",
    "list_model_name=[\"DecisionTree Model\",\"GradientBoosting Model\",\"XGBoost Model\",\"LightGBM Model\"]\n",
    "fig,ax=plt.subplots(nrows=2,ncols=2,figsize=(16,10))\n",
    "count=0\n",
    "for i in range(2):\n",
    "    for j in range(2):\n",
    "        if count==0:\n",
    "            logit_roc_auc=roc_auc_score(Y_test,list_model[count].predict(X_test))\n",
    "            fpr,tpr,thresholds = roc_curve(Y_test,list_model[count].predict_proba(X_test)[:,1])\n",
    "        else:\n",
    "            logit_roc_auc=roc_auc_score(Y_test,list_model[count].predict(X_test))\n",
    "            fpr,tpr,thresholds = roc_curve(Y_test,list_model[count].predict_proba(X_test)[:,1])\n",
    "        sns.lineplot(fpr,tpr,label=\"AUC = %0.2f\"%logit_roc_auc,ax=ax[i][j])\n",
    "        sns.lineplot([0,1],[0,1],color=\"red\",ax=ax[i][j])\n",
    "        ax[i][j].legend(loc=\"lower right\")\n",
    "        ax[i][j].set_title(list_model_name[count],fontsize=15)\n",
    "        count+=1\n",
    "fig.suptitle(\"ROC Curve\",fontsize=18);"
   ]
  },
  {
   "cell_type": "code",
   "execution_count": null,
   "metadata": {
    "execution": {
     "iopub.execute_input": "2020-08-27T15:33:06.111281Z",
     "iopub.status.busy": "2020-08-27T15:33:06.110485Z",
     "iopub.status.idle": "2020-08-27T15:33:06.151176Z",
     "shell.execute_reply": "2020-08-27T15:33:06.151917Z"
    },
    "papermill": {
     "duration": 0.086682,
     "end_time": "2020-08-27T15:33:06.152097",
     "exception": false,
     "start_time": "2020-08-27T15:33:06.065415",
     "status": "completed"
    },
    "tags": []
   },
   "outputs": [],
   "source": [
    "model_data=pd.DataFrame({\"Model\":[\"DecisionTree Model\",\"GradientBoosting Model\",\"XGBoost Model\",\"LightGBM Model\"],\n",
    "                   \"Train Accuracy\":[accuracy_score(Y_train,cart_model.predict(X_train)),accuracy_score(Y_train,gbm_model.predict(X_train)),accuracy_score(Y_train,xgb_model.predict(X_train)),accuracy_score(Y_train,lgbm_model.predict(X_train))],\n",
    "                   \"Test Accuracy\":[accuracy_score(Y_test,cart_model.predict(X_test)),accuracy_score(Y_test,gbm_model.predict(X_test)),accuracy_score(Y_test,xgb_model.predict(X_test)),accuracy_score(Y_test,lgbm_model.predict(X_test))]})"
   ]
  },
  {
   "cell_type": "code",
   "execution_count": null,
   "metadata": {
    "execution": {
     "iopub.execute_input": "2020-08-27T15:33:06.255913Z",
     "iopub.status.busy": "2020-08-27T15:33:06.255040Z",
     "iopub.status.idle": "2020-08-27T15:33:06.614904Z",
     "shell.execute_reply": "2020-08-27T15:33:06.614170Z"
    },
    "papermill": {
     "duration": 0.416418,
     "end_time": "2020-08-27T15:33:06.615027",
     "exception": false,
     "start_time": "2020-08-27T15:33:06.198609",
     "status": "completed"
    },
    "tags": []
   },
   "outputs": [],
   "source": [
    "fig,ax=plt.subplots(ncols=2,figsize=(16,5))\n",
    "sns.barplot(x=\"Model\",y=\"Train Accuracy\",data=model_data,ax=ax[0],palette=\"tab20c_r\")\n",
    "sns.barplot(x=\"Model\",y=\"Test Accuracy\",data=model_data,ax=ax[1],palette=\"tab20c_r\")\n",
    "ax[0].set_xticklabels(ax[0].get_xticklabels(),rotation=30)\n",
    "ax[1].set_xticklabels(ax[0].get_xticklabels(),rotation=30);"
   ]
  },
  {
   "cell_type": "markdown",
   "metadata": {
    "papermill": {
     "duration": 0.036669,
     "end_time": "2020-08-27T15:33:06.689045",
     "exception": false,
     "start_time": "2020-08-27T15:33:06.652376",
     "status": "completed"
    },
    "tags": []
   },
   "source": [
    "* We saw some important Features at the models results.\n",
    "* Now, we are creating a Tree image.\n",
    "* This Tree image shows us to what's going on the behind."
   ]
  },
  {
   "cell_type": "code",
   "execution_count": null,
   "metadata": {
    "execution": {
     "iopub.execute_input": "2020-08-27T15:33:06.784702Z",
     "iopub.status.busy": "2020-08-27T15:33:06.779784Z",
     "iopub.status.idle": "2020-08-27T15:33:06.790209Z",
     "shell.execute_reply": "2020-08-27T15:33:06.789618Z"
    },
    "papermill": {
     "duration": 0.064501,
     "end_time": "2020-08-27T15:33:06.790358",
     "exception": false,
     "start_time": "2020-08-27T15:33:06.725857",
     "status": "completed"
    },
    "tags": []
   },
   "outputs": [],
   "source": [
    "df.head(1)"
   ]
  },
  {
   "cell_type": "markdown",
   "metadata": {
    "papermill": {
     "duration": 0.037269,
     "end_time": "2020-08-27T15:33:06.865570",
     "exception": false,
     "start_time": "2020-08-27T15:33:06.828301",
     "status": "completed"
    },
    "tags": []
   },
   "source": [
    "* Selection 4 features according to importance"
   ]
  },
  {
   "cell_type": "code",
   "execution_count": null,
   "metadata": {
    "execution": {
     "iopub.execute_input": "2020-08-27T15:33:06.955561Z",
     "iopub.status.busy": "2020-08-27T15:33:06.954686Z",
     "iopub.status.idle": "2020-08-27T15:33:06.959591Z",
     "shell.execute_reply": "2020-08-27T15:33:06.958975Z"
    },
    "papermill": {
     "duration": 0.056839,
     "end_time": "2020-08-27T15:33:06.959726",
     "exception": false,
     "start_time": "2020-08-27T15:33:06.902887",
     "status": "completed"
    },
    "tags": []
   },
   "outputs": [],
   "source": [
    "from sklearn.ensemble import RandomForestRegressor, RandomForestClassifier\n",
    "\n",
    "variable = [\"Risk\",\"Monthly pay\",\"Credit amount\",\"Checking account_little\",\"Checking account_moderate\"]\n",
    "\n",
    "data = df.loc[:,variable]\n",
    "\n",
    "data.head(2)"
   ]
  },
  {
   "cell_type": "code",
   "execution_count": null,
   "metadata": {
    "execution": {
     "iopub.execute_input": "2020-08-27T15:33:07.049109Z",
     "iopub.status.busy": "2020-08-27T15:33:07.044954Z",
     "iopub.status.idle": "2020-08-27T15:33:07.064925Z",
     "shell.execute_reply": "2020-08-27T15:33:07.064154Z"
    },
    "papermill": {
     "duration": 0.067445,
     "end_time": "2020-08-27T15:33:07.065050",
     "exception": false,
     "start_time": "2020-08-27T15:33:06.997605",
     "status": "completed"
    },
    "tags": []
   },
   "outputs": [],
   "source": [
    "X = data.drop(\"Risk\",axis=1)\n",
    "y = data[\"Risk\"]\n",
    "\n",
    "forest = RandomForestClassifier(max_depth = 3, n_estimators=4)\n",
    "forest.fit(X,y)"
   ]
  },
  {
   "cell_type": "code",
   "execution_count": null,
   "metadata": {
    "execution": {
     "iopub.execute_input": "2020-08-27T15:33:07.147177Z",
     "iopub.status.busy": "2020-08-27T15:33:07.146370Z",
     "iopub.status.idle": "2020-08-27T15:33:07.149985Z",
     "shell.execute_reply": "2020-08-27T15:33:07.149235Z"
    },
    "papermill": {
     "duration": 0.046955,
     "end_time": "2020-08-27T15:33:07.150106",
     "exception": false,
     "start_time": "2020-08-27T15:33:07.103151",
     "status": "completed"
    },
    "tags": []
   },
   "outputs": [],
   "source": [
    "estimator = forest.estimators_[3]"
   ]
  },
  {
   "cell_type": "code",
   "execution_count": null,
   "metadata": {
    "execution": {
     "iopub.execute_input": "2020-08-27T15:33:07.256188Z",
     "iopub.status.busy": "2020-08-27T15:33:07.255063Z",
     "iopub.status.idle": "2020-08-27T15:33:07.258734Z",
     "shell.execute_reply": "2020-08-27T15:33:07.257997Z"
    },
    "papermill": {
     "duration": 0.064147,
     "end_time": "2020-08-27T15:33:07.258878",
     "exception": false,
     "start_time": "2020-08-27T15:33:07.194731",
     "status": "completed"
    },
    "tags": []
   },
   "outputs": [],
   "source": [
    "target_names = [\"0: good\",\"1: bad\"]"
   ]
  },
  {
   "cell_type": "code",
   "execution_count": null,
   "metadata": {
    "execution": {
     "iopub.execute_input": "2020-08-27T15:33:07.342036Z",
     "iopub.status.busy": "2020-08-27T15:33:07.340790Z",
     "iopub.status.idle": "2020-08-27T15:33:07.348022Z",
     "shell.execute_reply": "2020-08-27T15:33:07.347282Z"
    },
    "papermill": {
     "duration": 0.051238,
     "end_time": "2020-08-27T15:33:07.348148",
     "exception": false,
     "start_time": "2020-08-27T15:33:07.296910",
     "status": "completed"
    },
    "tags": []
   },
   "outputs": [],
   "source": [
    "from sklearn.tree import export_graphviz\n",
    "\n",
    "export_graphviz(estimator,out_file=\"tree_limited.dot\",feature_names=X.columns,\n",
    "                class_names=target_names,rounded = True, proportion = False, precision = 2, filled = True)"
   ]
  },
  {
   "cell_type": "code",
   "execution_count": null,
   "metadata": {
    "execution": {
     "iopub.execute_input": "2020-08-27T15:33:07.432971Z",
     "iopub.status.busy": "2020-08-27T15:33:07.432116Z",
     "iopub.status.idle": "2020-08-27T15:33:07.450024Z",
     "shell.execute_reply": "2020-08-27T15:33:07.449304Z"
    },
    "papermill": {
     "duration": 0.064097,
     "end_time": "2020-08-27T15:33:07.450158",
     "exception": false,
     "start_time": "2020-08-27T15:33:07.386061",
     "status": "completed"
    },
    "tags": []
   },
   "outputs": [],
   "source": [
    "forest_1 = RandomForestClassifier(max_depth = None, n_estimators=4)\n",
    "forest_1 = forest_1.fit(X,y)\n",
    "estimator_non = forest_1.estimators_[3]"
   ]
  },
  {
   "cell_type": "code",
   "execution_count": null,
   "metadata": {
    "execution": {
     "iopub.execute_input": "2020-08-27T15:33:07.533485Z",
     "iopub.status.busy": "2020-08-27T15:33:07.532468Z",
     "iopub.status.idle": "2020-08-27T15:33:07.598453Z",
     "shell.execute_reply": "2020-08-27T15:33:07.597636Z"
    },
    "papermill": {
     "duration": 0.109909,
     "end_time": "2020-08-27T15:33:07.598584",
     "exception": false,
     "start_time": "2020-08-27T15:33:07.488675",
     "status": "completed"
    },
    "tags": []
   },
   "outputs": [],
   "source": [
    "export_graphviz(estimator_non, out_file='tree_nonlimited.dot', feature_names = X.columns,\n",
    "                class_names = target_names,\n",
    "                rounded = True, proportion = False, precision = 2, filled = True)"
   ]
  },
  {
   "cell_type": "code",
   "execution_count": null,
   "metadata": {
    "execution": {
     "iopub.execute_input": "2020-08-27T15:33:07.680916Z",
     "iopub.status.busy": "2020-08-27T15:33:07.680119Z",
     "iopub.status.idle": "2020-08-27T15:33:10.879152Z",
     "shell.execute_reply": "2020-08-27T15:33:10.879756Z"
    },
    "papermill": {
     "duration": 3.24326,
     "end_time": "2020-08-27T15:33:10.879924",
     "exception": false,
     "start_time": "2020-08-27T15:33:07.636664",
     "status": "completed"
    },
    "tags": []
   },
   "outputs": [],
   "source": [
    "!dot -Tpng tree_limited.dot -o tree_limited.png -Gdpi=600"
   ]
  },
  {
   "cell_type": "code",
   "execution_count": null,
   "metadata": {
    "execution": {
     "iopub.execute_input": "2020-08-27T15:33:10.962087Z",
     "iopub.status.busy": "2020-08-27T15:33:10.961312Z",
     "iopub.status.idle": "2020-08-27T15:33:11.027072Z",
     "shell.execute_reply": "2020-08-27T15:33:11.027693Z"
    },
    "papermill": {
     "duration": 0.10982,
     "end_time": "2020-08-27T15:33:11.027849",
     "exception": false,
     "start_time": "2020-08-27T15:33:10.918029",
     "status": "completed"
    },
    "tags": []
   },
   "outputs": [],
   "source": [
    "from IPython.display import Image\n",
    "Image(filename = 'tree_limited.png')"
   ]
  }
 ],
 "metadata": {
  "kernelspec": {
   "display_name": "Python 3 (ipykernel)",
   "language": "python",
   "name": "python3"
  },
  "language_info": {
   "codemirror_mode": {
    "name": "ipython",
    "version": 3
   },
   "file_extension": ".py",
   "mimetype": "text/x-python",
   "name": "python",
   "nbconvert_exporter": "python",
   "pygments_lexer": "ipython3",
   "version": "3.10.14"
  },
  "papermill": {
   "duration": 37.344536,
   "end_time": "2020-08-27T15:33:11.191683",
   "environment_variables": {},
   "exception": null,
   "input_path": "__notebook__.ipynb",
   "output_path": "__notebook__.ipynb",
   "parameters": {},
   "start_time": "2020-08-27T15:32:33.847147",
   "version": "2.1.0"
  }
 },
 "nbformat": 4,
 "nbformat_minor": 4
}
